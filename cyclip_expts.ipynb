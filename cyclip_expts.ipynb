{
 "cells": [
  {
   "cell_type": "code",
   "execution_count": 130,
   "id": "37e32e33",
   "metadata": {},
   "outputs": [],
   "source": [
    "import json\n",
    "import pathlib\n",
    "import os\n",
    "import sys  \n",
    "sys.path.insert(0, '/nethome/bdevnani3/flash1/long_tail_lang/')\n",
    "import torch\n",
    "import torch.nn as nn\n",
    "import torch.optim as optim\n",
    "import torch.nn.functional as F\n",
    "from tqdm.notebook import trange, tqdm\n",
    "from os import listdir\n",
    "from os.path import isfile, join\n",
    "\n",
    "\n",
    "from classes import CLASSES, CUSTOM_TEMPLATES, GENERIC_PROMPT_COLLECTIONS\n",
    "from utils import *"
   ]
  },
  {
   "cell_type": "code",
   "execution_count": 131,
   "id": "aa8622a6",
   "metadata": {},
   "outputs": [],
   "source": [
    "from data_loader import dataloaders, classes\n",
    "from clip import clip"
   ]
  },
  {
   "cell_type": "code",
   "execution_count": 132,
   "id": "34843431",
   "metadata": {},
   "outputs": [],
   "source": [
    "dataset_path = '/nethome/bdevnani3/flash1/long_tail_lang/datasets/ImageNet/'\n",
    "dataset = 'ImageNet_LT'\n",
    "split = \"train\""
   ]
  },
  {
   "cell_type": "code",
   "execution_count": 133,
   "id": "43b98260",
   "metadata": {},
   "outputs": [
    {
     "name": "stdout",
     "output_type": "stream",
     "text": [
      "Loading data from /nethome/bdevnani3/flash1/long_tail_lang/data/ImageNet_LT/ImageNet_LT_train.txt\n",
      "Use data transformation: Compose(\n",
      "    RandomResizedCrop(size=(224, 224), scale=(0.5, 1), ratio=(0.75, 1.3333), interpolation=bicubic)\n",
      "    RandomHorizontalFlip(p=0.5)\n",
      "    ColorJitter(brightness=[0.6, 1.4], contrast=[0.6, 1.4], saturation=[0.6, 1.4], hue=None)\n",
      "    ToTensor()\n",
      "    Normalize(mean=[0.48145466, 0.4578275, 0.40821073], std=[0.26862954, 0.26130258, 0.27577711])\n",
      ")\n",
      "***********************DATASET: train None\n",
      "train 115846\n",
      "No sampler.\n",
      "Shuffle is True.\n"
     ]
    }
   ],
   "source": [
    "dl = dataloaders.load_data(data_root= dataset_path, dataset=dataset, phase=split, batch_size=512)"
   ]
  },
  {
   "cell_type": "code",
   "execution_count": 134,
   "id": "423092fa",
   "metadata": {},
   "outputs": [],
   "source": [
    "# Initialize CLIP models \n",
    "class TextEncoder(nn.Module):\n",
    "    def __init__(self, clip_model):\n",
    "        super().__init__()\n",
    "        self.transformer = clip_model.transformer\n",
    "        self.positional_embedding = clip_model.positional_embedding\n",
    "        self.ln_final = clip_model.ln_final\n",
    "        self.text_projection = clip_model.text_projection\n",
    "        self.dtype = clip_model.dtype\n",
    "        self.token_embedding = clip_model.token_embedding\n",
    "\n",
    "    def forward(self, text):\n",
    "        x = self.token_embedding(text).type(self.dtype)  # [batch_size, n_ctx, d_model]\n",
    "\n",
    "        x = x + self.positional_embedding.type(self.dtype)\n",
    "        x = x.permute(1, 0, 2)  # NLD -> LND\n",
    "        x = self.transformer(x)\n",
    "        x = x.permute(1, 0, 2)  # LND -> NLD\n",
    "        x = self.ln_final(x).type(self.dtype)\n",
    "\n",
    "        # x.shape = [batch_size, n_ctx, transformer.width]\n",
    "        # take features from the eot embedding (eot_token is the highest number in each sequence)\n",
    "        x = x[torch.arange(x.shape[0]), text.argmax(dim=-1)] @ self.text_projection\n",
    "\n",
    "        return x\n",
    "\n",
    "def load_clip_to_cpu(visual_backbone):\n",
    "    backbone_name = visual_backbone\n",
    "    url = clip._MODELS[backbone_name]\n",
    "    model_path = clip._download(url, os.path.expanduser(\"~/.cache/clip\"))\n",
    "\n",
    "    try:\n",
    "        # loading JIT archive\n",
    "        model = torch.jit.load(model_path, map_location=\"cpu\").eval()\n",
    "        state_dict = None\n",
    "\n",
    "    except RuntimeError:\n",
    "        state_dict = torch.load(model_path, map_location=\"cpu\")\n",
    "\n",
    "    model = clip.build_model(state_dict or model.state_dict())\n",
    "\n",
    "    return model\n",
    "\n",
    "# Regular CLIP model\n",
    "clip_model = load_clip_to_cpu(\"RN50\")\n",
    "\n",
    "visual_model = torch.nn.DataParallel(clip_model.visual).cuda()\n",
    "\n",
    "text_model = TextEncoder(clip_model)\n",
    "text_model = torch.nn.DataParallel(text_model).cuda()"
   ]
  },
  {
   "cell_type": "code",
   "execution_count": 135,
   "id": "c264ef7e",
   "metadata": {},
   "outputs": [],
   "source": [
    "# Small cyclip model\n",
    "cyclip_small_model = load_clip_to_cpu(\"RN50\")\n",
    "checkpoint = torch.load(\"/nethome/bdevnani3/flash1/CyCLIP/data/pretrained_cyclip/best.pt\", map_location = \"cuda\")\n",
    "state_dict = checkpoint[\"state_dict\"]\n",
    "state_dict = {key[len(\"module.\"):]: value for key, value in state_dict.items()}\n",
    "cyclip_small_model.load_state_dict(state_dict)\n",
    "cyclip_small_visual_model = torch.nn.DataParallel(cyclip_small_model.visual).cuda()\n",
    "\n",
    "cyclip_small_text_model = TextEncoder(cyclip_small_model)\n",
    "cyclip_small_text_model = torch.nn.DataParallel(cyclip_small_text_model).cuda()"
   ]
  },
  {
   "cell_type": "code",
   "execution_count": 136,
   "id": "2881d3a6",
   "metadata": {},
   "outputs": [],
   "source": [
    "# Small clip model\n",
    "clip_small_model = load_clip_to_cpu(\"RN50\")\n",
    "checkpoint = torch.load(\"/nethome/bdevnani3/flash1/CyCLIP/data/pretrained_clip/best.pt\", map_location = \"cuda\")\n",
    "state_dict = checkpoint[\"state_dict\"]\n",
    "state_dict = {key[len(\"module.\"):]: value for key, value in state_dict.items()}\n",
    "clip_small_model.load_state_dict(state_dict)\n",
    "clip_small_visual_model = torch.nn.DataParallel(clip_small_model.visual).cuda()\n",
    "\n",
    "clip_small_text_model = TextEncoder(clip_small_model)\n",
    "clip_small_text_model = torch.nn.DataParallel(clip_small_text_model).cuda()"
   ]
  },
  {
   "cell_type": "code",
   "execution_count": 185,
   "id": "44a036da",
   "metadata": {},
   "outputs": [
    {
     "data": {
      "application/vnd.jupyter.widget-view+json": {
       "model_id": "622b90359e884af98de70dbc124f20cd",
       "version_major": 2,
       "version_minor": 0
      },
      "text/plain": [
       "  0%|          | 0/227 [00:00<?, ?it/s]"
      ]
     },
     "metadata": {},
     "output_type": "display_data"
    },
    {
     "name": "stdout",
     "output_type": "stream",
     "text": [
      "Accuracy: 56.8359375\n"
     ]
    }
   ],
   "source": [
    "total_preds = []\n",
    "total_labels = []\n",
    "total_pred_values = []\n",
    "with torch.no_grad():\n",
    "    for inp, label, index, path in tqdm(dl[0]):\n",
    "        classnames = CLASSES\n",
    "        templates = GENERIC_PROMPT_COLLECTIONS[\"default\"][0]\n",
    "\n",
    "        texts = torch.cat([clip.tokenize(templates.format(c)) for c in classnames])\n",
    "        texts = texts.cuda()\n",
    "        zeroshot_weights = text_model(texts).float()\n",
    "        zeroshot_weights = zeroshot_weights / zeroshot_weights.norm(\n",
    "            dim=-1, keepdim=True\n",
    "        )\n",
    "\n",
    "        y = visual_model(inp.half()).float()\n",
    "        x = y\n",
    "        x = x / x.norm(dim=-1, keepdim=True)\n",
    "\n",
    "        logits = 100.0 * x @ zeroshot_weights.t()\n",
    "        pred_vals, preds = torch.max(logits, 1)\n",
    "        total_preds.append(torch2numpy(preds))\n",
    "        total_labels.append(torch2numpy(label))\n",
    "        total_pred_values.append(torch2numpy(pred_vals))\n",
    "    \n",
    "    total_preds = np.hstack(total_preds)\n",
    "    total_labels = np.hstack(total_labels)\n",
    "    total_pred_values = np.hstack(total_pred_values)\n",
    "    acc_mic_top1 = (total_preds == total_labels).sum().item() / len(total_labels)\n",
    "    print(\"Accuracy:\",  acc_mic_top1*100)"
   ]
  },
  {
   "cell_type": "code",
   "execution_count": null,
   "id": "212a9fc7",
   "metadata": {},
   "outputs": [],
   "source": []
  },
  {
   "cell_type": "code",
   "execution_count": 177,
   "id": "44955c0a",
   "metadata": {},
   "outputs": [
    {
     "data": {
      "application/vnd.jupyter.widget-view+json": {
       "model_id": "a1d743a9a28044e4b6791201ddf491b0",
       "version_major": 2,
       "version_minor": 0
      },
      "text/plain": [
       "  0%|          | 0/227 [00:00<?, ?it/s]"
      ]
     },
     "metadata": {},
     "output_type": "display_data"
    },
    {
     "name": "stdout",
     "output_type": "stream",
     "text": [
      "Accuracy: 18.75\n"
     ]
    }
   ],
   "source": [
    "total_preds = []\n",
    "total_labels = []\n",
    "with torch.no_grad():\n",
    "    for inp, label, index, path in tqdm(dl[0]):\n",
    "        classnames = CLASSES\n",
    "        templates = GENERIC_PROMPT_COLLECTIONS[\"default\"][0]\n",
    "\n",
    "        texts = torch.cat([clip.tokenize(templates.format(c)) for c in classnames])\n",
    "        texts = texts.cuda()\n",
    "        zeroshot_weights = clip_small_text_model(texts).float()\n",
    "        zeroshot_weights = zeroshot_weights / zeroshot_weights.norm(\n",
    "            dim=-1, keepdim=True\n",
    "        )\n",
    "\n",
    "        y = clip_small_visual_model(inp.half()).float()\n",
    "        x = y\n",
    "        x = x / x.norm(dim=-1, keepdim=True)\n",
    "\n",
    "        logits = 100.0 * x @ zeroshot_weights.t()\n",
    "        pred_vals, preds = torch.max(logits, 1)\n",
    "        total_preds.append(torch2numpy(preds))\n",
    "        total_labels.append(torch2numpy(label))\n",
    "        break\n",
    "    \n",
    "    total_preds = np.hstack(total_preds)\n",
    "    total_labels = np.hstack(total_labels)\n",
    "    acc_mic_top1 = (total_preds == total_labels).sum().item() / len(total_labels)\n",
    "    print(\"Accuracy:\",  acc_mic_top1*100)"
   ]
  },
  {
   "cell_type": "code",
   "execution_count": 179,
   "id": "d4daf0e4",
   "metadata": {},
   "outputs": [
    {
     "data": {
      "application/vnd.jupyter.widget-view+json": {
       "model_id": "2986a94b402e41b2928c446967a66822",
       "version_major": 2,
       "version_minor": 0
      },
      "text/plain": [
       "  0%|          | 0/227 [00:00<?, ?it/s]"
      ]
     },
     "metadata": {},
     "output_type": "display_data"
    },
    {
     "name": "stdout",
     "output_type": "stream",
     "text": [
      "Accuracy: 22.8515625\n"
     ]
    }
   ],
   "source": [
    "total_preds = []\n",
    "total_labels = []\n",
    "with torch.no_grad():\n",
    "    for inp, label, index, path in tqdm(dl[0]):\n",
    "        classnames = CLASSES\n",
    "        templates = GENERIC_PROMPT_COLLECTIONS[\"default\"][0]\n",
    "\n",
    "        texts = torch.cat([clip.tokenize(templates.format(c)) for c in classnames])\n",
    "        texts = texts.cuda()\n",
    "        zeroshot_weights = cyclip_small_text_model(texts).float()\n",
    "        zeroshot_weights = zeroshot_weights / zeroshot_weights.norm(\n",
    "            dim=-1, keepdim=True\n",
    "        )\n",
    "\n",
    "        y = cyclip_small_visual_model(inp.half()).float()\n",
    "        x = y\n",
    "        x = x / x.norm(dim=-1, keepdim=True)\n",
    "\n",
    "        logits = 100.0 * x @ zeroshot_weights.t()\n",
    "        pred_vals, preds = torch.max(logits, 1)\n",
    "        total_preds.append(torch2numpy(preds))\n",
    "        total_labels.append(torch2numpy(label))\n",
    "\n",
    "    \n",
    "    total_preds = np.hstack(total_preds)\n",
    "    total_labels = np.hstack(total_labels)\n",
    "    acc_mic_top1 = (total_preds == total_labels).sum().item() / len(total_labels)\n",
    "    print(\"Accuracy:\",  acc_mic_top1*100)"
   ]
  },
  {
   "cell_type": "code",
   "execution_count": 82,
   "id": "22415701",
   "metadata": {},
   "outputs": [
    {
     "name": "stdout",
     "output_type": "stream",
     "text": [
      "Loading data from /nethome/bdevnani3/flash1/long_tail_lang/data/ImageNet_LT/ImageNet_LT_train.txt\n",
      "Use data transformation: Compose(\n",
      "    RandomResizedCrop(size=(224, 224), scale=(0.5, 1), ratio=(0.75, 1.3333), interpolation=bicubic)\n",
      "    RandomHorizontalFlip(p=0.5)\n",
      "    ColorJitter(brightness=[0.6, 1.4], contrast=[0.6, 1.4], saturation=[0.6, 1.4], hue=None)\n",
      "    ToTensor()\n",
      "    Normalize(mean=[0.48145466, 0.4578275, 0.40821073], std=[0.26862954, 0.26130258, 0.27577711])\n",
      ")\n",
      "***********************DATASET: train None\n",
      "train 115846\n",
      "No sampler.\n",
      "Shuffle is True.\n"
     ]
    }
   ],
   "source": [
    "dl = dataloaders.load_data(data_root= dataset_path, dataset=dataset, phase=split, batch_size=1)"
   ]
  },
  {
   "cell_type": "code",
   "execution_count": 83,
   "id": "ae9d4e00",
   "metadata": {},
   "outputs": [
    {
     "data": {
      "application/vnd.jupyter.widget-view+json": {
       "model_id": "abb59f37ca534634b0c8ecdb7b5a28e6",
       "version_major": 2,
       "version_minor": 0
      },
      "text/plain": [
       "  0%|          | 0/115846 [00:00<?, ?it/s]"
      ]
     },
     "metadata": {},
     "output_type": "display_data"
    },
    {
     "data": {
      "text/plain": [
       "torch.Size([51, 1024])"
      ]
     },
     "execution_count": 83,
     "metadata": {},
     "output_type": "execute_result"
    }
   ],
   "source": [
    "# CYCLIP images\n",
    "\n",
    "cls = \"goldfish\"\n",
    "\n",
    "cyclip_image_embs = []\n",
    "cnt = 0\n",
    "with torch.no_grad():\n",
    "    for inp, label, index, path in tqdm(dl[0]):\n",
    "        if cnt > 50:\n",
    "            break\n",
    "        classnames = CLASSES\n",
    "        templates = GENERIC_PROMPT_COLLECTIONS[\"default\"][0]\n",
    "        \n",
    "        if CLASSES[label.item()] == cls:\n",
    "\n",
    "            y = cyclip_small_visual_model(inp.half()).float()\n",
    "            x = y\n",
    "            x = x / x.norm(dim=-1, keepdim=True)\n",
    "\n",
    "            cyclip_image_embs.append(x)\n",
    "            cnt+=1\n",
    "\n",
    "cyclip_image_embs = torch.cat(cyclip_image_embs, dim=0)\n",
    "cyclip_image_embs.shape\n",
    "\n",
    "# CYCLIP texts\n",
    "\n",
    "cls = \"goldfish\"\n",
    "\n",
    "cyclip_text_embs = []\n",
    "templates = GENERIC_PROMPT_COLLECTIONS[\"ImageNet\"]\n",
    "with torch.no_grad():\n",
    "    texts = torch.cat([clip.tokenize(template.format(cls)) for template in templates])\n",
    "    texts = texts.cuda()\n",
    "    zeroshot_weights = cyclip_small_text_model(texts).float()\n",
    "    zeroshot_weights = zeroshot_weights / zeroshot_weights.norm(\n",
    "        dim=-1, keepdim=True\n",
    "    )\n",
    "\n",
    "cyclip_text_embs = zeroshot_weights\n",
    "cyclip_text_embs.shape\n",
    "\n",
    "# CLIP images\n",
    "\n",
    "cls = \"goldfish\"\n",
    "\n",
    "clip_image_embs = []\n",
    "cnt = 0\n",
    "with torch.no_grad():\n",
    "    for inp, label, index, path in tqdm(dl[0]):\n",
    "        if cnt > 50:\n",
    "            break\n",
    "        classnames = CLASSES\n",
    "        templates = GENERIC_PROMPT_COLLECTIONS[\"default\"][0]\n",
    "        \n",
    "        if CLASSES[label.item()] == cls:\n",
    "\n",
    "            y = clip_small_visual_model(inp.half()).float()\n",
    "            x = y\n",
    "            x = x / x.norm(dim=-1, keepdim=True)\n",
    "\n",
    "            clip_image_embs.append(x)\n",
    "            cnt+=1\n",
    "\n",
    "clip_image_embs = torch.cat(clip_image_embs, dim=0)\n",
    "clip_image_embs.shape\n",
    "\n",
    "# CLIP texts\n",
    "\n",
    "cls = \"goldfish\"\n",
    "\n",
    "clip_text_embs = []\n",
    "templates = GENERIC_PROMPT_COLLECTIONS[\"ImageNet\"]\n",
    "with torch.no_grad():\n",
    "    texts = torch.cat([clip.tokenize(template.format(cls)) for template in templates])\n",
    "    texts = texts.cuda()\n",
    "    zeroshot_weights = clip_small_text_model(texts).float()\n",
    "    zeroshot_weights = zeroshot_weights / zeroshot_weights.norm(\n",
    "        dim=-1, keepdim=True\n",
    "    )\n",
    "\n",
    "clip_text_embs = zeroshot_weights\n",
    "clip_text_embs.shape"
   ]
  },
  {
   "cell_type": "code",
   "execution_count": null,
   "id": "5796e29d",
   "metadata": {},
   "outputs": [],
   "source": [
    "tsne_inp = torch.vstack([cyclip_image_embs, cyclip_text_embs, clip_image_embs, clip_text_embs]).cpu()"
   ]
  },
  {
   "cell_type": "code",
   "execution_count": 119,
   "id": "4c38bed2",
   "metadata": {},
   "outputs": [
    {
     "data": {
      "application/vnd.jupyter.widget-view+json": {
       "model_id": "00758e4c01b24969acb7dc4f62414932",
       "version_major": 2,
       "version_minor": 0
      },
      "text/plain": [
       "  0%|          | 0/115846 [00:00<?, ?it/s]"
      ]
     },
     "metadata": {},
     "output_type": "display_data"
    },
    {
     "data": {
      "application/vnd.jupyter.widget-view+json": {
       "model_id": "b3924eaf3ca9453d85831435c9671742",
       "version_major": 2,
       "version_minor": 0
      },
      "text/plain": [
       "  0%|          | 0/115846 [00:00<?, ?it/s]"
      ]
     },
     "metadata": {},
     "output_type": "display_data"
    },
    {
     "data": {
      "text/plain": [
       "torch.Size([82, 1024])"
      ]
     },
     "execution_count": 119,
     "metadata": {},
     "output_type": "execute_result"
    }
   ],
   "source": [
    "# Concatenate everything\n",
    "\n",
    "# CYCLIP images\n",
    "\n",
    "cls = \"umbrella\"\n",
    "\n",
    "cyclip_image_embs = []\n",
    "cnt = 0\n",
    "with torch.no_grad():\n",
    "    for inp, label, index, path in tqdm(dl[0]):\n",
    "        if cnt > 50:\n",
    "            break\n",
    "        classnames = CLASSES\n",
    "        templates = GENERIC_PROMPT_COLLECTIONS[\"default\"][0]\n",
    "        \n",
    "        if CLASSES[label.item()] == cls:\n",
    "\n",
    "            y = cyclip_small_visual_model(inp.half()).float()\n",
    "            x = y\n",
    "            x = x / x.norm(dim=-1, keepdim=True)\n",
    "\n",
    "            cyclip_image_embs.append(x)\n",
    "            cnt+=1\n",
    "\n",
    "cyclip_image_embs = torch.cat(cyclip_image_embs, dim=0)\n",
    "cyclip_image_embs.shape\n",
    "\n",
    "# CYCLIP texts\n",
    "\n",
    "cyclip_text_embs = []\n",
    "templates = GENERIC_PROMPT_COLLECTIONS[\"ImageNet\"]\n",
    "with torch.no_grad():\n",
    "    texts = torch.cat([clip.tokenize(template.format(cls)) for template in templates])\n",
    "    texts = texts.cuda()\n",
    "    zeroshot_weights = cyclip_small_text_model(texts).float()\n",
    "    zeroshot_weights = zeroshot_weights / zeroshot_weights.norm(\n",
    "        dim=-1, keepdim=True\n",
    "    )\n",
    "\n",
    "cyclip_text_embs = zeroshot_weights\n",
    "cyclip_text_embs.shape\n",
    "\n",
    "# CLIP images\n",
    "\n",
    "clip_image_embs = []\n",
    "cnt = 0\n",
    "with torch.no_grad():\n",
    "    for inp, label, index, path in tqdm(dl[0]):\n",
    "        if cnt > 50:\n",
    "            break\n",
    "        classnames = CLASSES\n",
    "        templates = GENERIC_PROMPT_COLLECTIONS[\"default\"][0]\n",
    "        \n",
    "        if CLASSES[label.item()] == cls:\n",
    "\n",
    "            y = clip_small_visual_model(inp.half()).float()\n",
    "            x = y\n",
    "            x = x / x.norm(dim=-1, keepdim=True)\n",
    "\n",
    "            clip_image_embs.append(x)\n",
    "            cnt+=1\n",
    "\n",
    "clip_image_embs = torch.cat(clip_image_embs, dim=0)\n",
    "clip_image_embs.shape\n",
    "\n",
    "# CLIP texts\n",
    "\n",
    "clip_text_embs = []\n",
    "templates = GENERIC_PROMPT_COLLECTIONS[\"ImageNet\"]\n",
    "with torch.no_grad():\n",
    "    texts = torch.cat([clip.tokenize(template.format(cls)) for template in templates])\n",
    "    texts = texts.cuda()\n",
    "    zeroshot_weights = clip_small_text_model(texts).float()\n",
    "    zeroshot_weights = zeroshot_weights / zeroshot_weights.norm(\n",
    "        dim=-1, keepdim=True\n",
    "    )\n",
    "\n",
    "clip_text_embs = zeroshot_weights\n",
    "clip_text_embs.shape"
   ]
  },
  {
   "cell_type": "code",
   "execution_count": 121,
   "id": "de12712e",
   "metadata": {},
   "outputs": [],
   "source": [
    "tsne_inp = torch.vstack([tsne_inp.cuda(), cyclip_image_embs, cyclip_text_embs, clip_image_embs, clip_text_embs]).cpu()"
   ]
  },
  {
   "cell_type": "code",
   "execution_count": 124,
   "id": "2f6f3d8b",
   "metadata": {},
   "outputs": [
    {
     "name": "stderr",
     "output_type": "stream",
     "text": [
      "/nethome/bdevnani3/flash1/miniconda3/envs/ltr/lib/python3.9/site-packages/sklearn/manifold/_t_sne.py:795: FutureWarning: The default initialization in TSNE will change from 'random' to 'pca' in 1.2.\n",
      "  warnings.warn(\n",
      "/nethome/bdevnani3/flash1/miniconda3/envs/ltr/lib/python3.9/site-packages/sklearn/manifold/_t_sne.py:805: FutureWarning: The default learning rate in TSNE will change from 200.0 to 'auto' in 1.2.\n",
      "  warnings.warn(\n"
     ]
    },
    {
     "data": {
      "text/plain": [
       "(532, 2)"
      ]
     },
     "execution_count": 124,
     "metadata": {},
     "output_type": "execute_result"
    }
   ],
   "source": [
    "import numpy as np\n",
    "from sklearn.manifold import TSNE\n",
    "X_embedded = TSNE(n_components=2, perplexity=50).fit_transform(tsne_inp)\n",
    "X_embedded.shape"
   ]
  },
  {
   "cell_type": "code",
   "execution_count": 127,
   "id": "67a512e3",
   "metadata": {},
   "outputs": [],
   "source": [
    "from sklearn.manifold import TSNE\n",
    "from keras.datasets import mnist\n",
    "from sklearn.datasets import load_iris\n",
    "from numpy import reshape\n",
    "import seaborn as sns\n",
    "import pandas as pd  \n",
    "sns.set(rc={'figure.figsize':(11.7,8.27)})\n"
   ]
  },
  {
   "cell_type": "code",
   "execution_count": 129,
   "id": "de472fc5",
   "metadata": {},
   "outputs": [
    {
     "data": {
      "text/plain": [
       "<AxesSubplot:>"
      ]
     },
     "execution_count": 129,
     "metadata": {},
     "output_type": "execute_result"
    },
    {
     "data": {
      "image/png": "[encoded data removed]",
      "text/plain": [
       "<Figure size 842.4x595.44 with 1 Axes>"
      ]
     },
     "metadata": {},
     "output_type": "display_data"
    }
   ],
   "source": [
    "sns.scatterplot(x=X_embedded[:50, 0], y=X_embedded[:50, 1], color = \"r\", label=\"clip_image_goldfish\")\n",
    "sns.scatterplot(x=X_embedded[51:55, 0], y=X_embedded[51:55, 0], color = \"orange\", label=\"clip_text_goldfish\")\n",
    "sns.scatterplot(x=X_embedded[135:180, 0], y=X_embedded[135:180, 1], color = \"g\", label=\"cyclip_image_goldfish\")\n",
    "sns.scatterplot(x=X_embedded[183:187, 0], y=X_embedded[183:187, 0], color = \"b\", label=\"cyclip_text_goldfish\")\n",
    "\n",
    "sns.scatterplot(x=X_embedded[266:316, 0], y=X_embedded[266:316, 1], color = \"r\", label=\"clip_image_umbrella\", marker = \"X\")\n",
    "sns.scatterplot(x=X_embedded[317:322, 0], y=X_embedded[317:322, 0], color = \"orange\", label=\"clip_text_umbrella\", marker = \"X\")\n",
    "sns.scatterplot(x=X_embedded[450:490, 0], y=X_embedded[450:490, 1], color = \"g\", label=\"cyclip_image_umbrella\", marker = \"X\")\n",
    "sns.scatterplot(x=X_embedded[-5:, 0], y=X_embedded[-5:, 0], color = \"b\", label=\"cyclip_text_umbrella\", marker = \"X\")"
   ]
  },
  {
   "cell_type": "markdown",
   "id": "9d61af38",
   "metadata": {},
   "source": [
    "Why isn't cyclip able to get the benefits of boosting?"
   ]
  },
  {
   "cell_type": "code",
   "execution_count": 184,
   "id": "31c433ec",
   "metadata": {},
   "outputs": [],
   "source": [
    "templates = GENERIC_PROMPT_COLLECTIONS[\"ImageNet\"]"
   ]
  },
  {
   "cell_type": "code",
   "execution_count": 194,
   "id": "58d407bd",
   "metadata": {},
   "outputs": [
    {
     "data": {
      "application/vnd.jupyter.widget-view+json": {
       "model_id": "b0c3038d2dc24c13b85860ccb1fd8966",
       "version_major": 2,
       "version_minor": 0
      },
      "text/plain": [
       "  0%|          | 0/227 [00:00<?, ?it/s]"
      ]
     },
     "metadata": {},
     "output_type": "display_data"
    },
    {
     "name": "stdout",
     "output_type": "stream",
     "text": [
      "Avg similarity: tensor(0.2394, device='cuda:0')\n"
     ]
    }
   ],
   "source": [
    "avg_preds = 0\n",
    "count = 0\n",
    "with torch.no_grad():\n",
    "    for inp, labels, index, path in tqdm(dl[0]):\n",
    "        classnames = np.array(CLASSES)\n",
    "        templates = GENERIC_PROMPT_COLLECTIONS[\"default\"][0]\n",
    "        \n",
    "        classnames = classnames[labels.cpu()]\n",
    "\n",
    "        texts = torch.cat([clip.tokenize(templates.format(c)) for c in classnames])\n",
    "        texts = texts.cuda()\n",
    "        zeroshot_weights = text_model(texts).float()\n",
    "        zeroshot_weights = zeroshot_weights / zeroshot_weights.norm(\n",
    "            dim=-1, keepdim=True\n",
    "        )\n",
    "\n",
    "        y = visual_model(inp.half()).float()\n",
    "        x = y\n",
    "        x = x / x.norm(dim=-1, keepdim=True)\n",
    "\n",
    "        logits = x @ zeroshot_weights.t()\n",
    "        logits =  logits.cuda() * torch.eye(len(inp),len(inp)).cuda()\n",
    "        avg_preds += logits.sum()\n",
    "        count += len(inp)\n",
    "    \n",
    "    print(\"Avg similarity:\",  avg_preds/count)"
   ]
  },
  {
   "cell_type": "code",
   "execution_count": 195,
   "id": "ed33df35",
   "metadata": {},
   "outputs": [
    {
     "data": {
      "application/vnd.jupyter.widget-view+json": {
       "model_id": "3df47dd3b08f4f92a2098c633b120349",
       "version_major": 2,
       "version_minor": 0
      },
      "text/plain": [
       "  0%|          | 0/227 [00:00<?, ?it/s]"
      ]
     },
     "metadata": {},
     "output_type": "display_data"
    },
    {
     "name": "stdout",
     "output_type": "stream",
     "text": [
      "Avg similarity: tensor(0.3666, device='cuda:0')\n"
     ]
    }
   ],
   "source": [
    "avg_preds = 0\n",
    "count = 0\n",
    "with torch.no_grad():\n",
    "    for inp, labels, index, path in tqdm(dl[0]):\n",
    "        classnames = np.array(CLASSES)\n",
    "        templates = GENERIC_PROMPT_COLLECTIONS[\"default\"][0]\n",
    "        \n",
    "        classnames = classnames[labels.cpu()]\n",
    "\n",
    "        texts = torch.cat([clip.tokenize(templates.format(c)) for c in classnames])\n",
    "        texts = texts.cuda()\n",
    "        zeroshot_weights = clip_small_text_model(texts).float()\n",
    "        zeroshot_weights = zeroshot_weights / zeroshot_weights.norm(\n",
    "            dim=-1, keepdim=True\n",
    "        )\n",
    "\n",
    "        y = clip_small_visual_model(inp.half()).float()\n",
    "        x = y\n",
    "        x = x / x.norm(dim=-1, keepdim=True)\n",
    "\n",
    "        logits = x @ zeroshot_weights.t()\n",
    "        logits =  logits.cuda() * torch.eye(len(inp),len(inp)).cuda()\n",
    "        avg_preds += logits.sum()\n",
    "        count += len(inp)\n",
    "    \n",
    "    print(\"Avg similarity:\",  avg_preds/count)"
   ]
  },
  {
   "cell_type": "code",
   "execution_count": 196,
   "id": "90dddb54",
   "metadata": {},
   "outputs": [
    {
     "data": {
      "application/vnd.jupyter.widget-view+json": {
       "model_id": "8845be2d95de4343b3310c6ccbd3eab9",
       "version_major": 2,
       "version_minor": 0
      },
      "text/plain": [
       "  0%|          | 0/227 [00:00<?, ?it/s]"
      ]
     },
     "metadata": {},
     "output_type": "display_data"
    },
    {
     "name": "stdout",
     "output_type": "stream",
     "text": [
      "Avg similarity: tensor(0.3755, device='cuda:0')\n"
     ]
    }
   ],
   "source": [
    "avg_preds = 0\n",
    "count = 0\n",
    "with torch.no_grad():\n",
    "    for inp, labels, index, path in tqdm(dl[0]):\n",
    "        classnames = np.array(CLASSES)\n",
    "        templates = GENERIC_PROMPT_COLLECTIONS[\"default\"][0]\n",
    "        \n",
    "        classnames = classnames[labels.cpu()]\n",
    "\n",
    "        texts = torch.cat([clip.tokenize(templates.format(c)) for c in classnames])\n",
    "        texts = texts.cuda()\n",
    "        zeroshot_weights = cyclip_small_text_model(texts).float()\n",
    "        zeroshot_weights = zeroshot_weights / zeroshot_weights.norm(\n",
    "            dim=-1, keepdim=True\n",
    "        )\n",
    "\n",
    "        y = cyclip_small_visual_model(inp.half()).float()\n",
    "        x = y\n",
    "        x = x / x.norm(dim=-1, keepdim=True)\n",
    "\n",
    "        logits = x @ zeroshot_weights.t()\n",
    "        logits =  logits.cuda() * torch.eye(len(inp),len(inp)).cuda()\n",
    "        avg_preds += logits.sum()\n",
    "        count += len(inp)\n",
    "    \n",
    "    print(\"Avg similarity:\",  avg_preds/count)"
   ]
  },
  {
   "cell_type": "code",
   "execution_count": null,
   "id": "8256e0ad",
   "metadata": {},
   "outputs": [],
   "source": []
  }
 ],
 "metadata": {
  "kernelspec": {
   "display_name": "Python 3 (ipykernel)",
   "language": "python",
   "name": "python3"
  },
  "language_info": {
   "codemirror_mode": {
    "name": "ipython",
    "version": 3
   },
   "file_extension": ".py",
   "mimetype": "text/x-python",
   "name": "python",
   "nbconvert_exporter": "python",
   "pygments_lexer": "ipython3",
   "version": "3.9.12"
  }
 },
 "nbformat": 4,
 "nbformat_minor": 5
}
