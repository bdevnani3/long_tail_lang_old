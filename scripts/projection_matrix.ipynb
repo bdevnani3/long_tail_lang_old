{
 "cells": [
  {
   "cell_type": "code",
   "execution_count": 1,
   "id": "d36ac276",
   "metadata": {},
   "outputs": [
    {
     "ename": "ModuleNotFoundError",
     "evalue": "No module named 'data_loader'",
     "output_type": "error",
     "traceback": [
      "\u001b[0;31m---------------------------------------------------------------------------\u001b[0m",
      "\u001b[0;31mModuleNotFoundError\u001b[0m                       Traceback (most recent call last)",
      "Input \u001b[0;32mIn [1]\u001b[0m, in \u001b[0;36m<cell line: 1>\u001b[0;34m()\u001b[0m\n\u001b[0;32m----> 1\u001b[0m \u001b[38;5;28;01mfrom\u001b[39;00m \u001b[38;5;21;01mdata_loader\u001b[39;00m \u001b[38;5;28;01mimport\u001b[39;00m dataloaders \u001b[38;5;28;01mas\u001b[39;00m dataloader\n",
      "\u001b[0;31mModuleNotFoundError\u001b[0m: No module named 'data_loader'"
     ]
    }
   ],
   "source": [
    "from data_loader import dataloaders as dataloader"
   ]
  },
  {
   "cell_type": "code",
   "execution_count": null,
   "id": "899954e7",
   "metadata": {},
   "outputs": [],
   "source": [
    "# Load Data\n",
    "\n",
    "d = dataloader.load_data(\n",
    "    data_root=data_root[dataset.rstrip(\"_LT\")],\n",
    "    dataset=dataset,\n",
    "    phase=split2phase(x),\n",
    "    batch_size=training_opt[\"batch_size\"],\n",
    "    sampler_dic=sampler_dic,\n",
    "    num_workers=training_opt[\"num_workers\"],\n",
    "    type=config[\"dataset_variant\"],\n",
    "    prompt_set=prompt_set,\n",
    ")\n",
    "data[x] = d[0]\n",
    "if x == \"train\":\n",
    "    data[x + \"_ltcount\"] = d[1]"
   ]
  }
 ],
 "metadata": {
  "kernelspec": {
   "display_name": "Python 3 (ipykernel)",
   "language": "python",
   "name": "python3"
  },
  "language_info": {
   "codemirror_mode": {
    "name": "ipython",
    "version": 3
   },
   "file_extension": ".py",
   "mimetype": "text/x-python",
   "name": "python",
   "nbconvert_exporter": "python",
   "pygments_lexer": "ipython3",
   "version": "3.9.12"
  }
 },
 "nbformat": 4,
 "nbformat_minor": 5
}
